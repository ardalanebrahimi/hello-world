{
  "nbformat": 4,
  "nbformat_minor": 0,
  "metadata": {
    "colab": {
      "name": "Hello, Colaboratory",
      "version": "0.3.2",
      "provenance": [],
      "collapsed_sections": [],
      "toc_visible": true,
      "include_colab_link": true
    },
    "kernelspec": {
      "display_name": "Python 3",
      "name": "python3"
    }
  },
  "cells": [
    {
      "cell_type": "markdown",
      "metadata": {
        "id": "view-in-github",
        "colab_type": "text"
      },
      "source": [
        "<a href=\"https://colab.research.google.com/github/ardalanebrahimi/hello-world/blob/master/Hello,_Colaboratory.ipynb\" target=\"_parent\"><img src=\"https://colab.research.google.com/assets/colab-badge.svg\" alt=\"Open In Colab\"/></a>"
      ]
    },
    {
      "metadata": {
        "id": "FyDv4KfEhwsU",
        "colab_type": "code",
        "colab": {}
      },
      "cell_type": "code",
      "source": [
        "from keras.datasets import imdb\n",
        "\n",
        "(train_data,train_labels),(test_data, test_labels) = imdb.load_data(num_words=10000)\n",
        "train_labels[0]\n",
        "\n",
        "word_index = imdb.get_word_index()\n",
        "reverse_word_index = dict([(value,key) for (key,value) in word_index.items()])\n",
        "decode_review  = ' '.join([reverse_word_index.get(i-3,'?') for i in train_data[0]])\n",
        "\n",
        "import numpy as np\n",
        "def vectorize_sequences(sequences, dimension=10000):\n",
        "  results = np.zeros((len(sequences),dimension))\n",
        "  for i, sequence in enumerate(sequences):\n",
        "    results[i, sequence] = 1.\n",
        "  return results\n",
        "\n",
        "x_train = vectorize_sequences(train_data)\n",
        "x_test = vectorize_sequences(test_data)\n",
        "y_train = np.asarray(train_labels).astype('float32')\n",
        "y_test = np.asarray(test_labels).astype('float32')\n",
        "\n",
        "from keras import models\n",
        "from keras import layers\n",
        "model = models.Sequential()\n",
        "\n",
        "model.add(layers.Dense(16, activation='relu', input_shape=(10000,)))\n",
        "model.add(layers.Dense(16, activation='relu'))\n",
        "model.add(layers.Dense(1, activation='sigmoid'))\n",
        "\n",
        "#output = relu(dot(input, W) + b)\n",
        "#model.compile(optimizer='rmsprop'\n",
        "#              ,loss='binary_crossentropy',\n",
        "#              metrics=['accuracy'])    \n",
        "\n",
        "from keras import optimizers\n",
        "from keras import losses\n",
        "from keras import metrics\n",
        "\n",
        "model.compile(optimizer=optimizers.RMSprop(lr=0.001)\n",
        "              ,loss=losses.binary_crossentropy,\n",
        "              metrics=[metrics.binary_accuracy])    \n",
        "\n",
        "x_val = x_train[:10000]\n",
        "partial_x_train = x_train[10000:]\n",
        "y_val = y_train[:10000]\n",
        "partial_y_train = y_train[10000:]"
      ],
      "execution_count": 0,
      "outputs": []
    },
    {
      "metadata": {
        "id": "KLNUILWlvtK2",
        "colab_type": "code",
        "colab": {
          "base_uri": "https://localhost:8080/",
          "height": 734
        },
        "outputId": "81b4799f-7dcc-4082-efa8-276bd3b9d1b9"
      },
      "cell_type": "code",
      "source": [
        "history = model.fit(partial_x_train,\n",
        "                   partial_y_train,\n",
        "                   epochs=20,\n",
        "                   batch_size = 512,\n",
        "                   validation_data = (x_val,y_val))"
      ],
      "execution_count": 59,
      "outputs": [
        {
          "output_type": "stream",
          "text": [
            "Train on 15000 samples, validate on 10000 samples\n",
            "Epoch 1/20\n",
            "15000/15000 [==============================] - 2s 148us/step - loss: 0.5101 - binary_accuracy: 0.7788 - val_loss: 0.3834 - val_binary_accuracy: 0.8658\n",
            "Epoch 2/20\n",
            "15000/15000 [==============================] - 2s 129us/step - loss: 0.3012 - binary_accuracy: 0.9035 - val_loss: 0.2993 - val_binary_accuracy: 0.8911\n",
            "Epoch 3/20\n",
            "15000/15000 [==============================] - 2s 128us/step - loss: 0.2161 - binary_accuracy: 0.9287 - val_loss: 0.3072 - val_binary_accuracy: 0.8725\n",
            "Epoch 4/20\n",
            "15000/15000 [==============================] - 2s 129us/step - loss: 0.1727 - binary_accuracy: 0.9433 - val_loss: 0.2825 - val_binary_accuracy: 0.8853\n",
            "Epoch 5/20\n",
            "15000/15000 [==============================] - 2s 131us/step - loss: 0.1394 - binary_accuracy: 0.9552 - val_loss: 0.2855 - val_binary_accuracy: 0.8862\n",
            "Epoch 6/20\n",
            "15000/15000 [==============================] - 2s 135us/step - loss: 0.1116 - binary_accuracy: 0.9661 - val_loss: 0.3116 - val_binary_accuracy: 0.8799\n",
            "Epoch 7/20\n",
            "15000/15000 [==============================] - 2s 136us/step - loss: 0.0943 - binary_accuracy: 0.9719 - val_loss: 0.3160 - val_binary_accuracy: 0.8837\n",
            "Epoch 8/20\n",
            "15000/15000 [==============================] - 2s 135us/step - loss: 0.0768 - binary_accuracy: 0.9776 - val_loss: 0.3928 - val_binary_accuracy: 0.8642\n",
            "Epoch 9/20\n",
            "15000/15000 [==============================] - 2s 134us/step - loss: 0.0625 - binary_accuracy: 0.9829 - val_loss: 0.3726 - val_binary_accuracy: 0.8753\n",
            "Epoch 10/20\n",
            "15000/15000 [==============================] - 2s 135us/step - loss: 0.0520 - binary_accuracy: 0.9867 - val_loss: 0.3943 - val_binary_accuracy: 0.8777\n",
            "Epoch 11/20\n",
            "15000/15000 [==============================] - 2s 129us/step - loss: 0.0373 - binary_accuracy: 0.9921 - val_loss: 0.4244 - val_binary_accuracy: 0.8753\n",
            "Epoch 12/20\n",
            "15000/15000 [==============================] - 2s 129us/step - loss: 0.0336 - binary_accuracy: 0.9929 - val_loss: 0.4643 - val_binary_accuracy: 0.8697\n",
            "Epoch 13/20\n",
            "15000/15000 [==============================] - 2s 128us/step - loss: 0.0263 - binary_accuracy: 0.9939 - val_loss: 0.4850 - val_binary_accuracy: 0.8743\n",
            "Epoch 14/20\n",
            "15000/15000 [==============================] - 2s 128us/step - loss: 0.0206 - binary_accuracy: 0.9965 - val_loss: 0.5162 - val_binary_accuracy: 0.8725\n",
            "Epoch 15/20\n",
            "15000/15000 [==============================] - 2s 129us/step - loss: 0.0150 - binary_accuracy: 0.9983 - val_loss: 0.5463 - val_binary_accuracy: 0.8720\n",
            "Epoch 16/20\n",
            "15000/15000 [==============================] - 2s 130us/step - loss: 0.0162 - binary_accuracy: 0.9965 - val_loss: 0.5776 - val_binary_accuracy: 0.8695\n",
            "Epoch 17/20\n",
            "15000/15000 [==============================] - 2s 129us/step - loss: 0.0075 - binary_accuracy: 0.9996 - val_loss: 0.6289 - val_binary_accuracy: 0.8642\n",
            "Epoch 18/20\n",
            "15000/15000 [==============================] - 2s 129us/step - loss: 0.0080 - binary_accuracy: 0.9992 - val_loss: 0.6561 - val_binary_accuracy: 0.8666\n",
            "Epoch 19/20\n",
            "15000/15000 [==============================] - 2s 128us/step - loss: 0.0107 - binary_accuracy: 0.9976 - val_loss: 0.6880 - val_binary_accuracy: 0.8648\n",
            "Epoch 20/20\n",
            "15000/15000 [==============================] - 2s 128us/step - loss: 0.0029 - binary_accuracy: 0.9999 - val_loss: 0.7117 - val_binary_accuracy: 0.8655\n"
          ],
          "name": "stdout"
        }
      ]
    },
    {
      "metadata": {
        "id": "yHFl7PZ2wiSJ",
        "colab_type": "code",
        "colab": {
          "base_uri": "https://localhost:8080/",
          "height": 375
        },
        "outputId": "3696662c-bac6-469c-a64f-9090c365c0e3"
      },
      "cell_type": "code",
      "source": [
        "import matplotlib.pyplot as plt\n",
        "history_dict = history.history\n",
        "#history_dict.keys()\n",
        "loss_values = history_dict['loss']\n",
        "val_loss_values = history_dict['val_loss']\n",
        "\n",
        "epochs = range(1, len(loss_values) + 1)\n",
        "\n",
        "plt.plot(epochs, loss_values, 'bo', label= 'Training loss')\n",
        "plt.plot(epochs, val_loss_values, 'b', label= 'Validation loss')\n",
        "plt.title('Training and validation loss')\n",
        "plt.xlabel('Epochs')\n",
        "plt.ylabel('Loss')\n",
        "plt.legend()\n",
        "\n",
        "plt.show()"
      ],
      "execution_count": 65,
      "outputs": [
        {
          "output_type": "display_data",
          "data": {
            "image/png": "[encoded data removed]",
            "text/plain": [
              "<matplotlib.figure.Figure at 0x7f3bb7d322b0>"
            ]
          },
          "metadata": {
            "tags": []
          }
        }
      ]
    },
    {
      "metadata": {
        "id": "_MDdbnWRxxns",
        "colab_type": "code",
        "colab": {}
      },
      "cell_type": "code",
      "source": [
        ""
      ],
      "execution_count": 0,
      "outputs": []
    }
  ]
}